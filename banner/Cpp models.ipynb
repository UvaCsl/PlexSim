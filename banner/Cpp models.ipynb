{
 "cells": [
  {
   "cell_type": "code",
   "execution_count": 1,
   "metadata": {},
   "outputs": [
    {
     "data": {
      "application/vnd.jupyter.widget-view+json": {
       "model_id": "2d3329dc69aa458faf4c47f1cd8fc9bf",
       "version_major": 2,
       "version_minor": 0
      },
      "text/plain": [
       "Canvas(toolbar=Toolbar(toolitems=[('Home', 'Reset original view', 'home', 'home'), ('Back', 'Back to previous …"
      ]
     },
     "metadata": {},
     "output_type": "display_data"
    },
    {
     "data": {
      "application/vnd.jupyter.widget-view+json": {
       "model_id": "9928475241fd414f9999c1342f92a50d",
       "version_major": 2,
       "version_minor": 0
      },
      "text/plain": [
       "interactive(children=(IntSlider(value=0, description='t', max=9), Output()), _dom_classes=('widget-interact',)…"
      ]
     },
     "metadata": {},
     "output_type": "display_data"
    }
   ],
   "source": [
    "import sys; sys.path.insert(0, '../')\n",
    "import networkx as nx, numpy as np, matplotlib.pyplot as plt\n",
    "from plexsim.example import *\n",
    "n = 10\n",
    "g = nx.grid_graph([n, n])\n",
    "ag = np.arange(5)\n",
    "m = M(g, agentStates = ag, t = .01, \\\n",
    "         )\n",
    "N = 10\n",
    "r = m.simulate(N).reshape(-1, n, n)\n",
    "import ipywidgets as w\n",
    "%matplotlib widget\n",
    "fig, ax = plt.subplots(figsize = (2,2))\n",
    "h = ax.imshow(r[0])\n",
    "\n",
    "slider = w.IntSlider(min = 0, max = len(r) - 1)\n",
    "@w.interact(t = slider)\n",
    "def update(t):\n",
    "    h.set_data(r[t])\n",
    "    fig.canvas.flush_events()\n",
    "    fig.canvas.draw()\n",
    "fig.show()\n"
   ]
  },
  {
   "cell_type": "code",
   "execution_count": 8,
   "metadata": {},
   "outputs": [
    {
     "name": "stdout",
     "output_type": "stream",
     "text": [
      "0.01\n"
     ]
    },
    {
     "ename": "AttributeError",
     "evalue": "'plexsim.example.Potts' object has no attribute 'nudgeTye'",
     "output_type": "error",
     "traceback": [
      "\u001b[0;31m-------------------------------------------------------------------\u001b[0m",
      "\u001b[0;31mAttributeError\u001b[0m                    Traceback (most recent call last)",
      "\u001b[0;32m<ipython-input-8-5bd9329e6899>\u001b[0m in \u001b[0;36m<module>\u001b[0;34m\u001b[0m\n\u001b[1;32m      1\u001b[0m \u001b[0mprint\u001b[0m\u001b[0;34m(\u001b[0m\u001b[0mm\u001b[0m\u001b[0;34m.\u001b[0m\u001b[0mt\u001b[0m\u001b[0;34m)\u001b[0m\u001b[0;34m\u001b[0m\u001b[0;34m\u001b[0m\u001b[0m\n\u001b[0;32m----> 2\u001b[0;31m \u001b[0mm\u001b[0m\u001b[0;34m.\u001b[0m\u001b[0mnudgeTye\u001b[0m \u001b[0;34m=\u001b[0m \u001b[0;34m\"weird\"\u001b[0m\u001b[0;34m\u001b[0m\u001b[0;34m\u001b[0m\u001b[0m\n\u001b[0m\u001b[1;32m      3\u001b[0m \u001b[0;34m\u001b[0m\u001b[0m\n\u001b[1;32m      4\u001b[0m \u001b[0mprint\u001b[0m\u001b[0;34m(\u001b[0m\u001b[0mm\u001b[0m\u001b[0;34m.\u001b[0m\u001b[0mupdateType\u001b[0m\u001b[0;34m)\u001b[0m\u001b[0;34m\u001b[0m\u001b[0;34m\u001b[0m\u001b[0m\n",
      "\u001b[0;31mAttributeError\u001b[0m: 'plexsim.example.Potts' object has no attribute 'nudgeTye'"
     ]
    }
   ],
   "source": [
    "print(m.t)\n",
    "m.nudgeTye = \"weird\"\n",
    "\n",
    "print(m.updateType)"
   ]
  },
  {
   "cell_type": "code",
   "execution_count": 10,
   "metadata": {},
   "outputs": [
    {
     "data": {
      "application/vnd.jupyter.widget-view+json": {
       "model_id": "858b852c880c425f925268b011d4b59d",
       "version_major": 2,
       "version_minor": 0
      },
      "text/plain": [
       "Canvas(toolbar=Toolbar(toolitems=[('Home', 'Reset original view', 'home', 'home'), ('Back', 'Back to previous …"
      ]
     },
     "metadata": {},
     "output_type": "display_data"
    }
   ],
   "source": [
    "# m.sampleNodes(10)\n",
    "fig, ax = plt.subplots()\n",
    "t = np.linspace(0, 3,10)\n",
    "tmp = m.magnetize(temps = t, nSamples = 1000)\n",
    "ax.plot(*tmp[:2])\n",
    "ax.plot(tmp[0], tmp[2])\n",
    "fig.show()"
   ]
  },
  {
   "cell_type": "code",
   "execution_count": 23,
   "metadata": {},
   "outputs": [],
   "source": [
    "nl =  str(nx.node_link_data(m.graph))"
   ]
  },
  {
   "cell_type": "code",
   "execution_count": 7,
   "metadata": {},
   "outputs": [
    {
     "data": {
      "text/plain": [
       "{'directed': False,\n",
       " 'multigraph': False,\n",
       " 'graph': {},\n",
       " 'nodes': [{'original': (0, 0), 'id': 0},\n",
       "  {'original': (0, 1), 'id': 1},\n",
       "  {'original': (0, 2), 'id': 2},\n",
       "  {'original': (0, 3), 'id': 3},\n",
       "  {'original': (1, 0), 'id': 4},\n",
       "  {'original': (1, 1), 'id': 5},\n",
       "  {'original': (1, 2), 'id': 6},\n",
       "  {'original': (1, 3), 'id': 7},\n",
       "  {'original': (2, 0), 'id': 8},\n",
       "  {'original': (2, 1), 'id': 9},\n",
       "  {'original': (2, 2), 'id': 10},\n",
       "  {'original': (2, 3), 'id': 11},\n",
       "  {'original': (3, 0), 'id': 12},\n",
       "  {'original': (3, 1), 'id': 13},\n",
       "  {'original': (3, 2), 'id': 14},\n",
       "  {'original': (3, 3), 'id': 15}],\n",
       " 'links': [{'source': 0, 'target': 4},\n",
       "  {'source': 0, 'target': 1},\n",
       "  {'source': 1, 'target': 5},\n",
       "  {'source': 1, 'target': 2},\n",
       "  {'source': 2, 'target': 6},\n",
       "  {'source': 2, 'target': 3},\n",
       "  {'source': 3, 'target': 7},\n",
       "  {'source': 4, 'target': 8},\n",
       "  {'source': 4, 'target': 5},\n",
       "  {'source': 5, 'target': 9},\n",
       "  {'source': 5, 'target': 6},\n",
       "  {'source': 6, 'target': 10},\n",
       "  {'source': 6, 'target': 7},\n",
       "  {'source': 7, 'target': 11},\n",
       "  {'source': 8, 'target': 12},\n",
       "  {'source': 8, 'target': 9},\n",
       "  {'source': 9, 'target': 13},\n",
       "  {'source': 9, 'target': 10},\n",
       "  {'source': 10, 'target': 14},\n",
       "  {'source': 10, 'target': 11},\n",
       "  {'source': 11, 'target': 15},\n",
       "  {'source': 12, 'target': 13},\n",
       "  {'source': 13, 'target': 14},\n",
       "  {'source': 14, 'target': 15}]}"
      ]
     },
     "execution_count": 7,
     "metadata": {},
     "output_type": "execute_result"
    }
   ],
   "source": [
    "nx.node_link_data(m.graph)"
   ]
  }
 ],
 "metadata": {
  "kernelspec": {
   "display_name": "Python 3",
   "language": "python",
   "name": "python3"
  },
  "language_info": {
   "codemirror_mode": {
    "name": "ipython",
    "version": 3
   },
   "file_extension": ".py",
   "mimetype": "text/x-python",
   "name": "python",
   "nbconvert_exporter": "python",
   "pygments_lexer": "ipython3",
   "version": "3.8.2"
  }
 },
 "nbformat": 4,
 "nbformat_minor": 4
}

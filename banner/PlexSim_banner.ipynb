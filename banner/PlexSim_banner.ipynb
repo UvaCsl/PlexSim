{
 "cells": [
  {
   "cell_type": "code",
   "execution_count": 5,
   "metadata": {},
   "outputs": [
    {
     "name": "stdout",
     "output_type": "stream",
     "text": [
      "Settup time was 0.7928941249847412\n",
      "starting sims\n",
      "Simulation took 13.702879905700684\n"
     ]
    },
    {
     "data": {
      "application/vnd.jupyter.widget-view+json": {
       "model_id": "49128755320447f5b2448c2ce7b48420",
       "version_major": 2,
       "version_minor": 0
      },
      "text/plain": [
       "Canvas(toolbar=Toolbar(toolitems=[('Home', 'Reset original view', 'home', 'home'), ('Back', 'Back to previous …"
      ]
     },
     "metadata": {},
     "output_type": "display_data"
    },
    {
     "data": {
      "application/vnd.jupyter.widget-view+json": {
       "model_id": "20b2b8ddd9114f09b350481d337c6f2a",
       "version_major": 2,
       "version_minor": 0
      },
      "text/plain": [
       "interactive(children=(IntSlider(value=0, description='t', max=999), Output()), _dom_classes=('widget-interact'…"
      ]
     },
     "metadata": {},
     "output_type": "display_data"
    }
   ],
   "source": [
    "import sys; sys.path.insert(0, '../')\n",
    "from plexsim.models import *\n",
    "import networkx as nx, time\n",
    "n = 128 \n",
    "g = nx.grid_graph([n, n])\n",
    "\n",
    "settings = dict(graph = g,\\\n",
    "                updateType = 'async',\\\n",
    "#                 sampleSize = .25,\\\n",
    "                alpha = 4, #bornholdt\n",
    "                mu = .2,   # SIRS param\n",
    "                nu = .02,  # SIRS param\n",
    "                kappa = .001, # SIRS param\n",
    "                beta = .2, # SIRS param\n",
    "                threshold = .01, #CCA param\n",
    "                p = .1, # Percolation\n",
    "               t = .5 # ising /potts\n",
    "               )\n",
    "ti = time.time()\n",
    "models = dict(\n",
    "    Potts = Potts(agentStates = np.arange(4).tolist(),\\\n",
    "          **settings),\\\n",
    "#      Ising = Ising(\\\n",
    "#            **settings),\\\n",
    "#      Bornholdt = Bornholdt(\\\n",
    "#                **settings),\\\n",
    "#      RBN = RBN(**settings),\\\n",
    "#      SIRS = SIRS(\\\n",
    "#          **settings),\\\n",
    "#     CCA = CCA(\\\n",
    "#          agentStates = np.arange(0,4).tolist(),\\\n",
    "#          **settings),\\\n",
    "#     Percolation = Percolation(\\\n",
    "#                 **settings),\\\n",
    "   \n",
    ")\n",
    "print(f\"Settup time was {time.time() - ti}\")\n",
    "# models.get(\"Bornholdt\").sampleSize = 1\n",
    "if m := models.get(\"SIRS\"):\n",
    "    m.states = 0\n",
    "    m.states[m.sampleNodes(1)[0,0]] = 1\n",
    "print(\"starting sims\")\n",
    "\n",
    "T = 1000\n",
    "import time\n",
    "start = time.time()\n",
    "results = np.zeros((len(models), T, g.number_of_nodes()))\n",
    "for idx, m in enumerate(models.values()):\n",
    "#     m.states = m.agentStates[-1]\n",
    "    m.reset()\n",
    "    results[idx] = m.simulate(T)\n",
    "r = results.mean(-1).flatten()\n",
    "results = results.reshape(-1, T, n, n)\n",
    "\n",
    "# print(results.shape)\n",
    "# results = results[-1, T,:, :, 0]\n",
    "print(f'Simulation took {time.time() - start}')\n",
    "\n",
    "import matplotlib.pyplot as plt\n",
    "from ipywidgets import interact, IntSlider\n",
    "import matplotlib as mpl\n",
    "from mpl_toolkits.axes_grid1 import make_axes_locatable as mal\n",
    "%matplotlib widget\n",
    "ts = IntSlider(min = 0, max = T - 1, value = 0)\n",
    "\n",
    "columns, rows = divmod(len(models), 2)\n",
    "fig, ax = plt.subplots(rows +1, columns +1, figsize = (5,5))\n",
    "fig.subplots_adjust(wspace = .12, hspace = .0001)\n",
    "#setup figure/\n",
    "hs  = []\n",
    "pad = .01\n",
    "size = '5%'\n",
    "for idx, ( (modelName, m), axi) in enumerate(zip(models.items(), ax.flat)):\n",
    "    div = mal(axi)\n",
    "    cbr = div.append_axes('bottom', size = size, pad = pad)\n",
    "#     div = mal(cbr)\n",
    "#     cbr = div.append_axes('right', size = size, pad = pad)\n",
    "    AS = m.agentStates\n",
    "    NS = len(AS) \n",
    "    cmap = mpl.colors.LinearSegmentedColormap.from_list(\\\n",
    "          None, plt.cm.viridis(np.linspace(0, 255, NS,\\\n",
    "                                          dtype = int)), NS)\n",
    "    h = axi.imshow(results[idx, 0], cmap = cmap, vmin = AS[0],\\\n",
    "                  vmax = AS[-1])\n",
    "    axi.set_title(modelName)\n",
    "    axi.axis(\"off\")\n",
    "    tmp = fig.colorbar(h, cax = cbr, ticks = AS,\\\n",
    "                       orientation = 'horizontal')\n",
    "    if modelName == 'SIRS':\n",
    "        tmp.set_ticklabels(\"Sus. Inf. Rec.\".split())\n",
    "    hs.append(h)\n",
    "mainax = fig.add_subplot(111, frameon = 0,\\\n",
    "                        xticks = [], yticks = [])\n",
    "[axi.axis('off') for axi in ax.flat[rows * columns:]]\n",
    "mainax.set_xlabel(f'T = 0')\n",
    "fig.tight_layout()\n",
    "@interact(t = ts)\n",
    "def update(t):\n",
    "    for idx, h in enumerate(hs):\n",
    "        h.set_data(results[idx, t])\n",
    "#         h.autoscale()\n",
    "    mainax.set_xlabel(f'T = {t}')\n",
    "    fig.canvas.flush_events()\n",
    "    fig.canvas.draw()\n",
    "fig.show()"
   ]
  },
  {
   "cell_type": "code",
   "execution_count": null,
   "metadata": {},
   "outputs": [],
   "source": [
    "\n"
   ]
  }
 ],
 "metadata": {
  "kernelspec": {
   "display_name": "Python 3",
   "language": "python",
   "name": "python3"
  },
  "language_info": {
   "codemirror_mode": {
    "name": "ipython",
    "version": 3
   },
   "file_extension": ".py",
   "mimetype": "text/x-python",
   "name": "python",
   "nbconvert_exporter": "python",
   "pygments_lexer": "ipython3",
   "version": "3.8.2"
  }
 },
 "nbformat": 4,
 "nbformat_minor": 4
}

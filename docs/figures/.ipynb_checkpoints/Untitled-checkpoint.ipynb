{
 "cells": [
  {
   "cell_type": "code",
   "execution_count": 89,
   "metadata": {},
   "outputs": [
    {
     "name": "stdout",
     "output_type": "stream",
     "text": [
      "(Heatmap({\n",
      "    'coloraxis': 'coloraxis',\n",
      "    'hovertemplate': 'x: %{x}<br>y: %{y}<br>color: %{z}<extra></extra>',\n",
      "    'z': array([[0.53534866, 0.1935983 , 0.22013542, 0.75059034, 0.28991281],\n",
      "                [0.44430331, 0.39464442, 0.96067533, 0.85930495, 0.35711713],\n",
      "                [0.09506591, 0.44316664, 0.05272423, 0.26701125, 0.28626695],\n",
      "                [0.09587314, 0.37744818, 0.31169069, 0.06995729, 0.82472732],\n",
      "                [0.29424878, 0.56438145, 0.66022665, 0.08181933, 0.58875676]])\n",
      "}),)\n"
     ]
    },
    {
     "data": {
      "text/html": [
       "<div>\n",
       "  <iframe src=\"/app/endpoints/a6ebc3c109134532ae10281fa1f34f2d/\" width=800 height=600 frameborder=\"0\"></iframe>\n",
       "  <hr/><a href=\"/app/endpoints/a6ebc3c109134532ae10281fa1f34f2d/\" target=\"_new\">Open in new window</a> for /app/endpoints/a6ebc3c109134532ae10281fa1f34f2d/\n",
       "</div>"
      ],
      "text/plain": [
       "<jupyter_plotly_dash.dash_wrapper.JupyterDash at 0x7fa2160b27c0>"
      ]
     },
     "execution_count": 89,
     "metadata": {},
     "output_type": "execute_result"
    }
   ],
   "source": [
    "from jupyter_plotly_dash import JupyterDash\n",
    "\n",
    "import dash\n",
    "import dash_core_components as dcc\n",
    "import dash_html_components as html\n",
    "from dash.dependencies import Input, Output\n",
    "import plotly.express as px, numpy as np\n",
    "import pandas as pd\n",
    "\n",
    "\n",
    "data = np.random.rand(5, 5)\n",
    "\n",
    "fig  = px.imshow(data)\n",
    "print(fig.data)\n",
    "app = JupyterDash('SimpleExample')\n",
    "\n",
    "app.layout = html.Div([\n",
    "#     dcc.RadioItems(\n",
    "#         id='dropdown-color',\n",
    "#         options=[{'label': c, 'value': c.lower()}\n",
    "#                  for c in ['Red', 'Green', 'Blue']],\n",
    "#         value='red'\n",
    "#     ),\n",
    "#     html.Div(id='output-color'),\n",
    "#     dcc.RadioItems(\n",
    "#         id='dropdown-size',\n",
    "#         options=[{'label': i, 'value': j}\n",
    "#                  for i, j in [('L','large'), ('M','medium'), ('S','small')]],\n",
    "#         value='medium'\n",
    "#     ),\n",
    "    html.Div(id = 'app_test'),\\\n",
    "    dcc.Graph(id = 'test',\\\n",
    "              figure = dict(data = fig.data,\\\n",
    "                           layout = dict(width = 1, height = 1,\\\n",
    "                                        dimension = 'ratio',\\\n",
    "                                        autosize = False),\\\n",
    "                           )\n",
    "             ),\n",
    "    dcc.Slider(\n",
    "        id='time',\n",
    "        min=0,\n",
    "        max=10,\n",
    "        step = 1,\n",
    "        value= 0,\n",
    "        updatemode=  'drag',\n",
    "    ),\n",
    "    html.Div(id = 'time-slider-output')\n",
    "\n",
    "])\n",
    "\n",
    "@app.callback(\n",
    "    dash.dependencies.Output('time-slider-output', 'children'),\n",
    "    [dash.dependencies.Input('time', 'value')])\n",
    "def update_output(value):\n",
    "    z = np.random.rand(5,5)\n",
    "    print(z)\n",
    "    d = app.layout['test'].figure['data'][0]\n",
    "    \n",
    "    d.z = z\n",
    "\n",
    "    d.update()\n",
    "    print('here')\n",
    "    return 'You have selected \"{}\"'.format(value)\n",
    "\n",
    "app"
   ]
  },
  {
   "cell_type": "code",
   "execution_count": 83,
   "metadata": {},
   "outputs": [
    {
     "data": {
      "text/plain": [
       "Heatmap({\n",
       "    'coloraxis': 'coloraxis',\n",
       "    'hovertemplate': 'x: %{x}<br>y: %{y}<br>color: %{z}<extra></extra>',\n",
       "    'z': array([[0.72800134, 0.21783506, 0.12367337, 0.84584911, 0.0540293 ],\n",
       "                [0.94114626, 0.18864787, 0.09998548, 0.24117047, 0.55094049],\n",
       "                [0.93146184, 0.56390881, 0.55483247, 0.04095831, 0.58583655],\n",
       "                [0.55343386, 0.34800225, 0.69260648, 0.09721782, 0.56810419],\n",
       "                [0.00871285, 0.18304857, 0.79664966, 0.21756508, 0.61066159]])\n",
       "})"
      ]
     },
     "execution_count": 83,
     "metadata": {},
     "output_type": "execute_result"
    }
   ],
   "source": [
    "app.layout['test'].figure['data'][0].update()"
   ]
  }
 ],
 "metadata": {
  "kernelspec": {
   "display_name": "Python 3",
   "language": "python",
   "name": "python3"
  },
  "language_info": {
   "codemirror_mode": {
    "name": "ipython",
    "version": 3
   },
   "file_extension": ".py",
   "mimetype": "text/x-python",
   "name": "python",
   "nbconvert_exporter": "python",
   "pygments_lexer": "ipython3",
   "version": "3.8.3"
  }
 },
 "nbformat": 4,
 "nbformat_minor": 4
}

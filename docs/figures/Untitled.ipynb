{
 "cells": [
  {
   "cell_type": "code",
   "execution_count": 1,
   "metadata": {},
   "outputs": [
    {
     "name": "stdout",
     "output_type": "stream",
     "text": [
      "Layout({\n",
      "    'template': '...',\n",
      "    'xaxis': {'anchor': 'y', 'domain': [0.0, 0.45]},\n",
      "    'xaxis2': {'anchor': 'y2', 'domain': [0.55, 1.0]},\n",
      "    'xaxis3': {'anchor': 'y3', 'domain': [0.0, 0.45]},\n",
      "    'xaxis4': {'anchor': 'y4', 'domain': [0.55, 1.0]},\n",
      "    'yaxis': {'anchor': 'x', 'domain': [0.575, 1.0]},\n",
      "    'yaxis2': {'anchor': 'x2', 'domain': [0.575, 1.0]},\n",
      "    'yaxis3': {'anchor': 'x3', 'domain': [0.0, 0.425]},\n",
      "    'yaxis4': {'anchor': 'x4', 'domain': [0.0, 0.425]}\n",
      "})\n"
     ]
    },
    {
     "data": {
      "text/html": [
       "<div>\n",
       "  <iframe src=\"/app/endpoints/e4e86b8f3f294fedb983327149b4c36d/\" width=800 height=600 frameborder=\"0\"></iframe>\n",
       "  <hr/><a href=\"/app/endpoints/e4e86b8f3f294fedb983327149b4c36d/\" target=\"_new\">Open in new window</a> for /app/endpoints/e4e86b8f3f294fedb983327149b4c36d/\n",
       "</div>"
      ],
      "text/plain": [
       "<jupyter_plotly_dash.dash_wrapper.JupyterDash at 0x7f92d0401730>"
      ]
     },
     "execution_count": 1,
     "metadata": {},
     "output_type": "execute_result"
    }
   ],
   "source": [
    "from jupyter_plotly_dash import JupyterDash\n",
    "\n",
    "import dash\n",
    "import dash_core_components as dcc\n",
    "import dash_html_components as html\n",
    "from dash.dependencies import Input, Output\n",
    "import plotly.express as px, plotly.graph_objects as go, numpy as np\n",
    "\n",
    "\n",
    "app = JupyterDash('SimpleExample')\n",
    "app.layout = html.Div([\n",
    "    html.Div(id = 'app_test'),\\\n",
    "    \n",
    "    html.Div([\n",
    "    dcc.Graph(id = 'animation'),\\\n",
    "    ],\n",
    "#     style = dict(width = 100, height = 100, margin = 'auto'), \n",
    "    ),\n",
    "    html.Div([\n",
    "    dcc.Slider(\n",
    "        id   = 'time-slider',\n",
    "        min  = 0,\n",
    "        max  = 10,\n",
    "        step = 1,\n",
    "        value= 0,\n",
    "        updatemode=  'drag',      \n",
    "    )],  style = dict(width = 200, margin = 'auto')),\\\n",
    "    html.Div(id = 'time-slider-output')\n",
    "\n",
    "])\n",
    "\n",
    "from plotly import subplots\n",
    "data = np.random.rand(11, 4, 4) \n",
    "\n",
    "fig = subplots.make_subplots(2, 2)\n",
    "for rowi in range(2):\n",
    "    for coli in range(2):\n",
    "        trace = go.Heatmap(z = data[0], zmin = 0, zmax = 1,\\\n",
    "                          )\n",
    "        fig.add_trace(trace, row = rowi + 1, col = coli + 1)\n",
    "    \n",
    "print(fig.layout)\n",
    "fig.update_layout( template = 'plotly_white', \\\n",
    "                 autosize = False)\n",
    "@app.callback(\n",
    "    Output('animation', 'figure'),\n",
    "    [Input('time-slider', 'value')])\n",
    "def update_output(value):\n",
    "    print(value)\n",
    "    try:\n",
    "        for d in fig.data:\n",
    "            d.z = data[value]\n",
    "    except Exceptions as e:\n",
    "        print(e)\n",
    "    return fig \n",
    "app"
   ]
  },
  {
   "cell_type": "code",
   "execution_count": null,
   "metadata": {},
   "outputs": [],
   "source": []
  },
  {
   "cell_type": "code",
   "execution_count": null,
   "metadata": {},
   "outputs": [],
   "source": []
  },
  {
   "cell_type": "code",
   "execution_count": null,
   "metadata": {},
   "outputs": [],
   "source": []
  }
 ],
 "metadata": {
  "kernelspec": {
   "display_name": "Python 3",
   "language": "python",
   "name": "python3"
  },
  "language_info": {
   "codemirror_mode": {
    "name": "ipython",
    "version": 3
   },
   "file_extension": ".py",
   "mimetype": "text/x-python",
   "name": "python",
   "nbconvert_exporter": "python",
   "pygments_lexer": "ipython3",
   "version": "3.8.3"
  }
 },
 "nbformat": 4,
 "nbformat_minor": 4
}
